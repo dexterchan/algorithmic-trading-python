{
 "cells": [
  {
   "cell_type": "markdown",
   "metadata": {},
   "source": [
    "# Equal-Weight S&P 500 Index Fund\n",
    "\n",
    "## Introduction & Library Imports\n",
    "\n",
    "The S&P 500 is the world's most popular stock market index. The largest fund that is benchmarked to this index is the SPDR® S&P 500® ETF Trust. It has more than US$250 billion of assets under management.\n",
    "\n",
    "The goal of this section of the course is to create a Python script that will accept the value of your portfolio and tell you how many shares of each S&P 500 constituent you should purchase to get an equal-weight version of the index fund.\n",
    "\n",
    "## Library Imports\n",
    "\n",
    "The first thing we need to do is import the open-source software libraries that we'll be using in this tutorial."
   ]
  },
  {
   "cell_type": "code",
   "execution_count": 1,
   "metadata": {},
   "outputs": [],
   "source": [
    "import pandas as pd\n",
    "import numpy as np\n",
    "import requests\n",
    "import xlsxwriter\n",
    "import math"
   ]
  },
  {
   "cell_type": "markdown",
   "metadata": {},
   "source": [
    "## Importing Our List of Stocks\n",
    "\n",
    "The next thing we need to do is import the constituents of the S&P 500.\n",
    "\n",
    "These constituents change over time, so in an ideal world you would connect directly to the index provider (Standard & Poor's) and pull their real-time constituents on a regular basis.\n",
    "\n",
    "Paying for access to the index provider's API is outside of the scope of this course. \n",
    "\n",
    "There's a static version of the S&P 500 constituents available here. [Click this link to download them now](https://drive.google.com/file/d/1ZJSpbY69DVckVZlO9cC6KkgfSufybcHN/view?usp=sharing). Move this file into the `starter-files` folder so it can be accessed by other files in that directory.\n",
    "\n",
    "Now it's time to import these stocks to our Jupyter Notebook file."
   ]
  },
  {
   "cell_type": "code",
   "execution_count": 2,
   "metadata": {},
   "outputs": [],
   "source": [
    "stocks = pd.read_csv(\"sp_500_stocks.csv\")"
   ]
  },
  {
   "cell_type": "code",
   "execution_count": 3,
   "metadata": {},
   "outputs": [
    {
     "data": {
      "text/plain": [
       "505"
      ]
     },
     "execution_count": 3,
     "metadata": {},
     "output_type": "execute_result"
    }
   ],
   "source": [
    "len(stocks)"
   ]
  },
  {
   "cell_type": "markdown",
   "metadata": {},
   "source": [
    "## Acquiring an API Token\n",
    "\n",
    "Now it's time to import our IEX Cloud API token. This is the data provider that we will be using throughout this course.\n",
    "\n",
    "API tokens (and other sensitive information) should be stored in a `secrets.py` file that doesn't get pushed to your local Git repository. We'll be using a sandbox API token in this course, which means that the data we'll use is randomly-generated and (more importantly) has no cost associated with it.\n",
    "\n",
    "[Click here](http://nickmccullum.com/algorithmic-trading-python/secrets.py) to download your `secrets.py` file. Move the file into the same directory as this Jupyter Notebook before proceeding."
   ]
  },
  {
   "cell_type": "code",
   "execution_count": 4,
   "metadata": {},
   "outputs": [],
   "source": [
    "from secrets import IEX_CLOUD_API_TOKEN"
   ]
  },
  {
   "cell_type": "markdown",
   "metadata": {},
   "source": [
    "## Making Our First API Call\n",
    "\n",
    "Now it's time to structure our API calls to IEX cloud. \n",
    "\n",
    "We need the following information from the API:\n",
    "\n",
    "* Market capitalization for each stock\n",
    "* Price of each stock\n",
    "\n"
   ]
  },
  {
   "cell_type": "code",
   "execution_count": 5,
   "metadata": {},
   "outputs": [],
   "source": [
    "symbol = 'AAPL'\n",
    "api_url = f'https://sandbox.iexapis.com/stable/stock/{symbol}/quote?token={IEX_CLOUD_API_TOKEN}'"
   ]
  },
  {
   "cell_type": "code",
   "execution_count": 6,
   "metadata": {},
   "outputs": [],
   "source": [
    "r = requests.get(api_url)\n",
    "if r.status_code <200 and r.status_code>=300:\n",
    "    raise Error(r.reason)\n",
    "data = r.json()"
   ]
  },
  {
   "cell_type": "markdown",
   "metadata": {},
   "source": [
    "## Parsing Our API Call\n",
    "\n",
    "The API call that we executed in the last code block contains all of the information required to build our equal-weight S&P 500 strategy. \n",
    "\n",
    "With that said, the data isn't in a proper format yet. We need to parse it first."
   ]
  },
  {
   "cell_type": "code",
   "execution_count": 7,
   "metadata": {},
   "outputs": [],
   "source": [
    "price = data[\"latestPrice\"]\n",
    "marketCap = data[\"marketCap\"]"
   ]
  },
  {
   "cell_type": "code",
   "execution_count": 8,
   "metadata": {},
   "outputs": [
    {
     "data": {
      "text/plain": [
       "{'symbol': 'AAPL',\n",
       " 'companyName': 'Apple Inc',\n",
       " 'primaryExchange': 'DNTAESSBLOGQ EL/GRCA KM )TNL(ASEA',\n",
       " 'calculationPrice': 'close',\n",
       " 'open': None,\n",
       " 'openTime': None,\n",
       " 'openSource': 'olaificf',\n",
       " 'close': None,\n",
       " 'closeTime': None,\n",
       " 'closeSource': 'ffilaioc',\n",
       " 'high': None,\n",
       " 'highTime': None,\n",
       " 'highSource': None,\n",
       " 'low': None,\n",
       " 'lowTime': None,\n",
       " 'lowSource': None,\n",
       " 'latestPrice': 134.9,\n",
       " 'latestSource': 'Close',\n",
       " 'latestTime': 'December 24, 2020',\n",
       " 'latestUpdate': 1661372105265,\n",
       " 'latestVolume': None,\n",
       " 'iexRealtimePrice': None,\n",
       " 'iexRealtimeSize': None,\n",
       " 'iexLastUpdated': None,\n",
       " 'delayedPrice': None,\n",
       " 'delayedPriceTime': None,\n",
       " 'oddLotDelayedPrice': None,\n",
       " 'oddLotDelayedPriceTime': None,\n",
       " 'extendedPrice': None,\n",
       " 'extendedChange': None,\n",
       " 'extendedChangePercent': None,\n",
       " 'extendedPriceTime': None,\n",
       " 'previousClose': 136.06,\n",
       " 'previousVolume': 91688064,\n",
       " 'change': 1.02,\n",
       " 'changePercent': 0.00805,\n",
       " 'volume': None,\n",
       " 'iexMarketPercent': None,\n",
       " 'iexVolume': None,\n",
       " 'avgTotalVolume': 108041333,\n",
       " 'iexBidPrice': None,\n",
       " 'iexBidSize': None,\n",
       " 'iexAskPrice': None,\n",
       " 'iexAskSize': None,\n",
       " 'iexOpen': 136.247,\n",
       " 'iexOpenTime': 1685145004060,\n",
       " 'iexClose': 136.009,\n",
       " 'iexCloseTime': 1689220426111,\n",
       " 'marketCap': 2284465987081,\n",
       " 'peRatio': 41.24,\n",
       " 'week52High': 135.44,\n",
       " 'week52Low': 55.98,\n",
       " 'ytdChange': 0.8402377820226075,\n",
       " 'lastTradeTime': 1686214076596,\n",
       " 'isUSMarketOpen': False}"
      ]
     },
     "execution_count": 8,
     "metadata": {},
     "output_type": "execute_result"
    }
   ],
   "source": [
    "data"
   ]
  },
  {
   "cell_type": "markdown",
   "metadata": {},
   "source": [
    "## Adding Our Stocks Data to a Pandas DataFrame\n",
    "\n",
    "The next thing we need to do is add our stock's price and market capitalization to a pandas DataFrame. Think of a DataFrame like the Python version of a spreadsheet. It stores tabular data."
   ]
  },
  {
   "cell_type": "code",
   "execution_count": 9,
   "metadata": {},
   "outputs": [],
   "source": [
    "my_columns = [\"Ticker\", \"Stock Price\", \"Market Capitalization\", \"Number of Stocks to Buy\"]\n",
    "finalDataFrame = pd.DataFrame(columns=my_columns)"
   ]
  },
  {
   "cell_type": "code",
   "execution_count": 10,
   "metadata": {},
   "outputs": [
    {
     "data": {
      "text/html": [
       "<div>\n",
       "<style scoped>\n",
       "    .dataframe tbody tr th:only-of-type {\n",
       "        vertical-align: middle;\n",
       "    }\n",
       "\n",
       "    .dataframe tbody tr th {\n",
       "        vertical-align: top;\n",
       "    }\n",
       "\n",
       "    .dataframe thead th {\n",
       "        text-align: right;\n",
       "    }\n",
       "</style>\n",
       "<table border=\"1\" class=\"dataframe\">\n",
       "  <thead>\n",
       "    <tr style=\"text-align: right;\">\n",
       "      <th></th>\n",
       "      <th>Ticker</th>\n",
       "      <th>Stock Price</th>\n",
       "      <th>Market Capitalization</th>\n",
       "      <th>Number of Stocks to Buy</th>\n",
       "    </tr>\n",
       "  </thead>\n",
       "  <tbody>\n",
       "    <tr>\n",
       "      <th>0</th>\n",
       "      <td>AAPL</td>\n",
       "      <td>134.9</td>\n",
       "      <td>2284465987081</td>\n",
       "      <td>N/A</td>\n",
       "    </tr>\n",
       "  </tbody>\n",
       "</table>\n",
       "</div>"
      ],
      "text/plain": [
       "  Ticker  Stock Price Market Capitalization Number of Stocks to Buy\n",
       "0   AAPL        134.9         2284465987081                     N/A"
      ]
     },
     "execution_count": 10,
     "metadata": {},
     "output_type": "execute_result"
    }
   ],
   "source": [
    "finalDataFrame.append(\n",
    "    pd.Series(\n",
    "    [\n",
    "        symbol,\n",
    "        data[\"latestPrice\"],\n",
    "        data[\"marketCap\"],\n",
    "        'N/A'\n",
    "    ], index = my_columns\n",
    "    ),\n",
    "    ignore_index = True\n",
    ")"
   ]
  },
  {
   "cell_type": "markdown",
   "metadata": {},
   "source": [
    "## Looping Through The Tickers in Our List of Stocks\n",
    "\n",
    "Using the same logic that we outlined above, we can pull data for all S&P 500 stocks and store their data in the DataFrame using a `for` loop."
   ]
  },
  {
   "cell_type": "code",
   "execution_count": 11,
   "metadata": {},
   "outputs": [],
   "source": [
    "api_url_template = 'https://sandbox.iexapis.com/stable/stock/{0}/quote?token={1}'\n",
    "my_columns = [\"Ticker\", \"Stock Price\", \"Market Capitalization\", \"Number of Stocks to Buy\"]\n",
    "finalDataFrame = pd.DataFrame(columns=my_columns)"
   ]
  },
  {
   "cell_type": "code",
   "execution_count": 12,
   "metadata": {},
   "outputs": [
    {
     "data": {
      "text/plain": [
       "0       A\n",
       "1     AAL\n",
       "2     AAP\n",
       "3    AAPL\n",
       "4    ABBV\n",
       "Name: Ticker, dtype: object"
      ]
     },
     "execution_count": 12,
     "metadata": {},
     "output_type": "execute_result"
    }
   ],
   "source": [
    "stocks[\"Ticker\"][:5]"
   ]
  },
  {
   "cell_type": "code",
   "execution_count": 13,
   "metadata": {},
   "outputs": [],
   "source": [
    "#Never run full scale in live environment\n",
    "#Throttling would occur!!!\n",
    "for stock in stocks[\"Ticker\"][:5]:\n",
    "        api_url = api_url_template.format(stock, IEX_CLOUD_API_TOKEN)\n",
    "        r = requests.get(api_url)\n",
    "        if r.status_code <200 or r.status_code>=300:\n",
    "            raise Error(r.reason)\n",
    "        data = r.json()\n",
    "        finalDataFrame = finalDataFrame.append(pd.Series(\n",
    "                [\n",
    "                    data[\"symbol\"],\n",
    "                    data[\"latestPrice\"],\n",
    "                    data[\"marketCap\"],\n",
    "                    'N/A'\n",
    "                ], \n",
    "                index = my_columns\n",
    "            ),\n",
    "            ignore_index = True)\n"
   ]
  },
  {
   "cell_type": "code",
   "execution_count": 14,
   "metadata": {},
   "outputs": [
    {
     "data": {
      "text/html": [
       "<div>\n",
       "<style scoped>\n",
       "    .dataframe tbody tr th:only-of-type {\n",
       "        vertical-align: middle;\n",
       "    }\n",
       "\n",
       "    .dataframe tbody tr th {\n",
       "        vertical-align: top;\n",
       "    }\n",
       "\n",
       "    .dataframe thead th {\n",
       "        text-align: right;\n",
       "    }\n",
       "</style>\n",
       "<table border=\"1\" class=\"dataframe\">\n",
       "  <thead>\n",
       "    <tr style=\"text-align: right;\">\n",
       "      <th></th>\n",
       "      <th>Ticker</th>\n",
       "      <th>Stock Price</th>\n",
       "      <th>Market Capitalization</th>\n",
       "      <th>Number of Stocks to Buy</th>\n",
       "    </tr>\n",
       "  </thead>\n",
       "  <tbody>\n",
       "    <tr>\n",
       "      <th>0</th>\n",
       "      <td>A</td>\n",
       "      <td>117.54</td>\n",
       "      <td>36954012327</td>\n",
       "      <td>N/A</td>\n",
       "    </tr>\n",
       "    <tr>\n",
       "      <th>1</th>\n",
       "      <td>AAL</td>\n",
       "      <td>15.81</td>\n",
       "      <td>9875531919</td>\n",
       "      <td>N/A</td>\n",
       "    </tr>\n",
       "    <tr>\n",
       "      <th>2</th>\n",
       "      <td>AAP</td>\n",
       "      <td>166.34</td>\n",
       "      <td>11353397999</td>\n",
       "      <td>N/A</td>\n",
       "    </tr>\n",
       "    <tr>\n",
       "      <th>3</th>\n",
       "      <td>AAPL</td>\n",
       "      <td>134.01</td>\n",
       "      <td>2350293961018</td>\n",
       "      <td>N/A</td>\n",
       "    </tr>\n",
       "    <tr>\n",
       "      <th>4</th>\n",
       "      <td>ABBV</td>\n",
       "      <td>107.96</td>\n",
       "      <td>187924216077</td>\n",
       "      <td>N/A</td>\n",
       "    </tr>\n",
       "  </tbody>\n",
       "</table>\n",
       "</div>"
      ],
      "text/plain": [
       "  Ticker  Stock Price Market Capitalization Number of Stocks to Buy\n",
       "0      A       117.54           36954012327                     N/A\n",
       "1    AAL        15.81            9875531919                     N/A\n",
       "2    AAP       166.34           11353397999                     N/A\n",
       "3   AAPL       134.01         2350293961018                     N/A\n",
       "4   ABBV       107.96          187924216077                     N/A"
      ]
     },
     "execution_count": 14,
     "metadata": {},
     "output_type": "execute_result"
    }
   ],
   "source": [
    "finalDataFrame"
   ]
  },
  {
   "cell_type": "markdown",
   "metadata": {},
   "source": [
    "## Using Batch API Calls to Improve Performance\n",
    "\n",
    "Batch API calls are one of the easiest ways to improve the performance of your code.\n",
    "\n",
    "This is because HTTP requests are typically one of the slowest components of a script.\n",
    "\n",
    "Also, API providers will often give you discounted rates for using batch API calls since they are easier for the API provider to respond to.\n",
    "\n",
    "IEX Cloud limits their batch API calls to 100 tickers per request. Still, this reduces the number of API calls we'll make in this section from 500 to 5 - huge improvement! In this section, we'll split our list of stocks into groups of 100 and then make a batch API call for each group."
   ]
  },
  {
   "cell_type": "code",
   "execution_count": 15,
   "metadata": {},
   "outputs": [],
   "source": [
    "from typing import List\n",
    "def chunk(lst: List[str], n:int):\n",
    "    #Yield successive n elements\n",
    "    for i in range(0, len(lst), n):\n",
    "        yield(lst[i:i+n])"
   ]
  },
  {
   "cell_type": "code",
   "execution_count": 16,
   "metadata": {},
   "outputs": [],
   "source": [
    "symbol_strings = []\n",
    "for stockSubList in chunk(stocks, 100):\n",
    "    symbol_strings.append( \",\".join(list(stockSubList[\"Ticker\"])) )\n",
    "my_columns = [\"Ticker\", \"Stock Price\", \"Market Capitalization\", \"Number of Stocks to Buy\"]\n",
    "finalDataFrame = pd.DataFrame(columns=my_columns)\n",
    "api_url_template = 'https://sandbox.iexapis.com/stable/stock/market/batch?symbols={0}&types=quote&token={1}'\n",
    "for stockstr in symbol_strings:\n",
    "    r = requests.get(api_url_template.format(stockstr, IEX_CLOUD_API_TOKEN))\n",
    "    if r.status_code <200 or r.status_code>=300:\n",
    "        raise Error(r.reason)\n",
    "    data = r.json()\n",
    "    for value in  data.values():\n",
    "        quoteData = value[\"quote\"]\n",
    "        finalDataFrame = finalDataFrame.append(pd.Series(\n",
    "                [\n",
    "                    quoteData[\"symbol\"],\n",
    "                    quoteData[\"latestPrice\"],\n",
    "                    quoteData[\"marketCap\"],\n",
    "                    'N/A'\n",
    "                ], \n",
    "                index = my_columns\n",
    "            ),\n",
    "            ignore_index = True)"
   ]
  },
  {
   "cell_type": "markdown",
   "metadata": {},
   "source": [
    "## Calculating the Number of Shares to Buy\n",
    "\n",
    "As you can see in the DataFrame above, we stil haven't calculated the number of shares of each stock to buy.\n",
    "\n",
    "We'll do that next."
   ]
  },
  {
   "cell_type": "code",
   "execution_count": 17,
   "metadata": {},
   "outputs": [
    {
     "name": "stdout",
     "output_type": "stream",
     "text": [
      "Enter the size of your portfolio100000000\n"
     ]
    }
   ],
   "source": [
    "try:\n",
    "    portfolio_size = float(input(\"Enter the size of your portfolio\"))\n",
    "except ValueError as e:\n",
    "    print(\"Please enter a number\")\n",
    "except Error as e:\n",
    "    print(e)"
   ]
  },
  {
   "cell_type": "code",
   "execution_count": 18,
   "metadata": {},
   "outputs": [],
   "source": [
    "position_size = portfolio_size / len(finalDataFrame)"
   ]
  },
  {
   "cell_type": "code",
   "execution_count": 19,
   "metadata": {},
   "outputs": [],
   "source": [
    "for cnt in range(len(finalDataFrame)):\n",
    "    finalDataFrame.iloc[cnt, -1] = math.floor(position_size / finalDataFrame.iloc[cnt, 1])\n",
    "# finalDataFrame"
   ]
  },
  {
   "cell_type": "markdown",
   "metadata": {},
   "source": [
    "## Formatting Our Excel Output\n",
    "\n",
    "We will be using the XlsxWriter library for Python to create nicely-formatted Excel files.\n",
    "\n",
    "XlsxWriter is an excellent package and offers tons of customization. However, the tradeoff for this is that the library can seem very complicated to new users. Accordingly, this section will be fairly long because I want to do a good job of explaining how XlsxWriter works.\n",
    "\n",
    "### Initializing our XlsxWriter Object"
   ]
  },
  {
   "cell_type": "code",
   "execution_count": 20,
   "metadata": {},
   "outputs": [],
   "source": [
    "worksheet_name = \"Recommended trade to buy\"\n",
    "excel_writer = pd.ExcelWriter(\"recommendedStock.xlsx\", engine = \"xlsxwriter\")\n",
    "finalDataFrame.to_excel(excel_writer, worksheet_name, index = False)"
   ]
  },
  {
   "cell_type": "markdown",
   "metadata": {},
   "source": [
    "### Creating the Formats We'll Need For Our `.xlsx` File\n",
    "\n",
    "Formats include colors, fonts, and also symbols like `%` and `$`. We'll need four main formats for our Excel document:\n",
    "* String format for tickers\n",
    "* \\\\$XX.XX format for stock prices\n",
    "* \\\\$XX,XXX format for market capitalization\n",
    "* Integer format for the number of shares to purchase"
   ]
  },
  {
   "cell_type": "code",
   "execution_count": 21,
   "metadata": {},
   "outputs": [],
   "source": [
    "background_color = \"#0a0a23\"\n",
    "font_color = \"#ffffff\"\n",
    "\n",
    "string_format = excel_writer.book.add_format(\n",
    "    {\n",
    "        \"font_color\": font_color,\n",
    "        \"bg_color\": background_color,\n",
    "        \"border\": 1\n",
    "    }\n",
    ")\n",
    "dollar_format = excel_writer.book.add_format(\n",
    "    {\n",
    "        \"num_format\" : \"$_(* #,##0.00_)\",\n",
    "        \"font_color\": font_color,\n",
    "        \"bg_color\": background_color,\n",
    "        \"border\": 1\n",
    "    }\n",
    ")\n",
    "integer_format = excel_writer.book.add_format(\n",
    "    {\n",
    "        \"num_format\": \"0\",\n",
    "        \"font_color\": font_color,\n",
    "        \"bg_color\": background_color,\n",
    "        \"border\": 1\n",
    "    }\n",
    ")"
   ]
  },
  {
   "cell_type": "markdown",
   "metadata": {},
   "source": [
    "### Applying the Formats to the Columns of Our `.xlsx` File\n",
    "\n",
    "We can use the `set_column` method applied to the `writer.sheets['Recommended Trades']` object to apply formats to specific columns of our spreadsheets.\n",
    "\n",
    "Here's an example:\n",
    "\n",
    "```python\n",
    "writer.sheets['Recommended Trades'].set_column('B:B', #This tells the method to apply the format to column B\n",
    "                     18, #This tells the method to apply a column width of 18 pixels\n",
    "                     string_template #This applies the format 'string_template' to the column\n",
    "                    )\n",
    "```"
   ]
  },
  {
   "cell_type": "markdown",
   "metadata": {},
   "source": [
    "This code works, but it violates the software principle of \"Don't Repeat Yourself\". \n",
    "\n",
    "Let's simplify this by putting it in 2 loops:"
   ]
  },
  {
   "cell_type": "code",
   "execution_count": 22,
   "metadata": {},
   "outputs": [],
   "source": [
    "column_formats = {\n",
    "    \"A\": [my_columns[0], string_format],\n",
    "    \"B\": [my_columns[1], dollar_format],\n",
    "    \"C\": [my_columns[2], dollar_format],\n",
    "    \"D\": [my_columns[3], integer_format]\n",
    "}\n",
    "for column in column_formats.keys():\n",
    "    excel_writer.sheets[worksheet_name].set_column(\n",
    "        \"{0}:{0}\".format(column),\n",
    "        18,\n",
    "        column_formats[column][1]\n",
    "    )\n",
    "    #Title\n",
    "    excel_writer.sheets[worksheet_name].write(\n",
    "        f\"{column}1\", column_formats[column][0], column_formats[column][1]\n",
    "    )\n"
   ]
  },
  {
   "cell_type": "markdown",
   "metadata": {},
   "source": [
    "## Saving Our Excel Output\n",
    "\n",
    "Saving our Excel file is very easy:"
   ]
  },
  {
   "cell_type": "code",
   "execution_count": 23,
   "metadata": {},
   "outputs": [
    {
     "data": {
      "text/plain": [
       "'Number of Stocks to Buy'"
      ]
     },
     "execution_count": 23,
     "metadata": {},
     "output_type": "execute_result"
    }
   ],
   "source": [
    "excel_writer.save()"
   ]
  }
 ],
 "metadata": {
  "kernelspec": {
   "display_name": "Python 3",
   "language": "python",
   "name": "python3"
  },
  "language_info": {
   "codemirror_mode": {
    "name": "ipython",
    "version": 3
   },
   "file_extension": ".py",
   "mimetype": "text/x-python",
   "name": "python",
   "nbconvert_exporter": "python",
   "pygments_lexer": "ipython3",
   "version": "3.9.0"
  }
 },
 "nbformat": 4,
 "nbformat_minor": 4
}
